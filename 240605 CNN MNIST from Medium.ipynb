{
 "cells": [
  {
   "cell_type": "code",
   "execution_count": 1,
   "id": "11bf63be",
   "metadata": {},
   "outputs": [],
   "source": [
    "import torch"
   ]
  },
  {
   "cell_type": "code",
   "execution_count": 2,
   "id": "19b19877",
   "metadata": {},
   "outputs": [
    {
     "data": {
      "text/plain": [
       "device(type='cpu')"
      ]
     },
     "execution_count": 2,
     "metadata": {},
     "output_type": "execute_result"
    }
   ],
   "source": [
    "# Device configuration\n",
    "device = torch.device('cuda' if torch.cuda.is_available() else 'cpu')\n",
    "device"
   ]
  },
  {
   "cell_type": "code",
   "execution_count": 3,
   "id": "b2ec0b30",
   "metadata": {},
   "outputs": [
    {
     "name": "stdout",
     "output_type": "stream",
     "text": [
      "Downloading http://yann.lecun.com/exdb/mnist/train-images-idx3-ubyte.gz\n",
      "Failed to download (trying next):\n",
      "HTTP Error 403: Forbidden\n",
      "\n",
      "Downloading https://ossci-datasets.s3.amazonaws.com/mnist/train-images-idx3-ubyte.gz\n",
      "Downloading https://ossci-datasets.s3.amazonaws.com/mnist/train-images-idx3-ubyte.gz to data/MNIST/raw/train-images-idx3-ubyte.gz\n"
     ]
    },
    {
     "data": {
      "application/vnd.jupyter.widget-view+json": {
       "model_id": "cfea0b77cf4647f7946f96645e9fd8f6",
       "version_major": 2,
       "version_minor": 0
      },
      "text/plain": [
       "  0%|          | 0/9912422 [00:00<?, ?it/s]"
      ]
     },
     "metadata": {},
     "output_type": "display_data"
    },
    {
     "name": "stdout",
     "output_type": "stream",
     "text": [
      "Extracting data/MNIST/raw/train-images-idx3-ubyte.gz to data/MNIST/raw\n",
      "\n",
      "Downloading http://yann.lecun.com/exdb/mnist/train-labels-idx1-ubyte.gz\n",
      "Failed to download (trying next):\n",
      "HTTP Error 403: Forbidden\n",
      "\n",
      "Downloading https://ossci-datasets.s3.amazonaws.com/mnist/train-labels-idx1-ubyte.gz\n",
      "Downloading https://ossci-datasets.s3.amazonaws.com/mnist/train-labels-idx1-ubyte.gz to data/MNIST/raw/train-labels-idx1-ubyte.gz\n"
     ]
    },
    {
     "data": {
      "application/vnd.jupyter.widget-view+json": {
       "model_id": "382cccc401a54633a8376c21f73cb2f1",
       "version_major": 2,
       "version_minor": 0
      },
      "text/plain": [
       "  0%|          | 0/28881 [00:00<?, ?it/s]"
      ]
     },
     "metadata": {},
     "output_type": "display_data"
    },
    {
     "name": "stdout",
     "output_type": "stream",
     "text": [
      "Extracting data/MNIST/raw/train-labels-idx1-ubyte.gz to data/MNIST/raw\n",
      "\n",
      "Downloading http://yann.lecun.com/exdb/mnist/t10k-images-idx3-ubyte.gz\n",
      "Failed to download (trying next):\n",
      "HTTP Error 403: Forbidden\n",
      "\n",
      "Downloading https://ossci-datasets.s3.amazonaws.com/mnist/t10k-images-idx3-ubyte.gz\n",
      "Downloading https://ossci-datasets.s3.amazonaws.com/mnist/t10k-images-idx3-ubyte.gz to data/MNIST/raw/t10k-images-idx3-ubyte.gz\n"
     ]
    },
    {
     "data": {
      "application/vnd.jupyter.widget-view+json": {
       "model_id": "2af0c0c7bc384eab80543ec8fcd08570",
       "version_major": 2,
       "version_minor": 0
      },
      "text/plain": [
       "  0%|          | 0/1648877 [00:00<?, ?it/s]"
      ]
     },
     "metadata": {},
     "output_type": "display_data"
    },
    {
     "name": "stdout",
     "output_type": "stream",
     "text": [
      "Extracting data/MNIST/raw/t10k-images-idx3-ubyte.gz to data/MNIST/raw\n",
      "\n",
      "Downloading http://yann.lecun.com/exdb/mnist/t10k-labels-idx1-ubyte.gz\n",
      "Failed to download (trying next):\n",
      "HTTP Error 403: Forbidden\n",
      "\n",
      "Downloading https://ossci-datasets.s3.amazonaws.com/mnist/t10k-labels-idx1-ubyte.gz\n",
      "Downloading https://ossci-datasets.s3.amazonaws.com/mnist/t10k-labels-idx1-ubyte.gz to data/MNIST/raw/t10k-labels-idx1-ubyte.gz\n"
     ]
    },
    {
     "data": {
      "application/vnd.jupyter.widget-view+json": {
       "model_id": "7a2cc23a4b95407c91d210895ec925e7",
       "version_major": 2,
       "version_minor": 0
      },
      "text/plain": [
       "  0%|          | 0/4542 [00:00<?, ?it/s]"
      ]
     },
     "metadata": {},
     "output_type": "display_data"
    },
    {
     "name": "stdout",
     "output_type": "stream",
     "text": [
      "Extracting data/MNIST/raw/t10k-labels-idx1-ubyte.gz to data/MNIST/raw\n",
      "\n"
     ]
    }
   ],
   "source": [
    "from torchvision import datasets\n",
    "from torchvision.transforms import ToTensor\n",
    "train_data = datasets.MNIST(\n",
    "    root = 'data',\n",
    "    train = True,                         \n",
    "    transform = ToTensor(), \n",
    "    download = True,            \n",
    ")\n",
    "test_data = datasets.MNIST(\n",
    "    root = 'data', \n",
    "    train = False, \n",
    "    transform = ToTensor()\n",
    ")"
   ]
  },
  {
   "cell_type": "code",
   "execution_count": 4,
   "id": "a505b28d",
   "metadata": {},
   "outputs": [
    {
     "name": "stdout",
     "output_type": "stream",
     "text": [
      "Dataset MNIST\n",
      "    Number of datapoints: 60000\n",
      "    Root location: data\n",
      "    Split: Train\n",
      "    StandardTransform\n",
      "Transform: ToTensor()\n"
     ]
    }
   ],
   "source": [
    "print(train_data)"
   ]
  },
  {
   "cell_type": "code",
   "execution_count": 5,
   "id": "09122239",
   "metadata": {},
   "outputs": [
    {
     "name": "stdout",
     "output_type": "stream",
     "text": [
      "Dataset MNIST\n",
      "    Number of datapoints: 10000\n",
      "    Root location: data\n",
      "    Split: Test\n",
      "    StandardTransform\n",
      "Transform: ToTensor()\n"
     ]
    }
   ],
   "source": [
    "print(test_data)"
   ]
  },
  {
   "cell_type": "code",
   "execution_count": 6,
   "id": "29ef5359",
   "metadata": {},
   "outputs": [
    {
     "name": "stdout",
     "output_type": "stream",
     "text": [
      "torch.Size([60000, 28, 28])\n"
     ]
    }
   ],
   "source": [
    "print(train_data.data.size())"
   ]
  },
  {
   "cell_type": "code",
   "execution_count": 7,
   "id": "a5685c5f",
   "metadata": {},
   "outputs": [
    {
     "name": "stdout",
     "output_type": "stream",
     "text": [
      "torch.Size([60000])\n"
     ]
    }
   ],
   "source": [
    "print(train_data.targets.size())"
   ]
  },
  {
   "cell_type": "code",
   "execution_count": 8,
   "id": "2c71d2ab",
   "metadata": {},
   "outputs": [
    {
     "data": {
      "image/png": "[encoded data removed]",
      "text/plain": [
       "<Figure size 640x480 with 1 Axes>"
      ]
     },
     "metadata": {},
     "output_type": "display_data"
    }
   ],
   "source": [
    "import matplotlib.pyplot as plt\n",
    "plt.imshow(train_data.data[0], cmap='gray')\n",
    "plt.title('%i' % train_data.targets[0])\n",
    "plt.show()"
   ]
  },
  {
   "cell_type": "code",
   "execution_count": 9,
   "id": "0cb689d6",
   "metadata": {},
   "outputs": [
    {
     "data": {
      "image/png": "[encoded data removed]",
      "text/plain": [
       "<Figure size 1000x800 with 25 Axes>"
      ]
     },
     "metadata": {},
     "output_type": "display_data"
    }
   ],
   "source": [
    "figure = plt.figure(figsize=(10, 8))\n",
    "cols, rows = 5, 5\n",
    "for i in range(1, cols * rows + 1):\n",
    "    sample_idx = torch.randint(len(train_data), size=(1,)).item()\n",
    "    img, label = train_data[sample_idx]\n",
    "    figure.add_subplot(rows, cols, i)\n",
    "    plt.title(label)\n",
    "    plt.axis(\"off\")\n",
    "    plt.imshow(img.squeeze(), cmap=\"gray\")\n",
    "plt.show()"
   ]
  },
  {
   "cell_type": "code",
   "execution_count": 10,
   "id": "8ca1d51d",
   "metadata": {},
   "outputs": [
    {
     "data": {
      "text/plain": [
       "{'train': <torch.utils.data.dataloader.DataLoader at 0x7f99f2316ef0>,\n",
       " 'test': <torch.utils.data.dataloader.DataLoader at 0x7f99f2316f50>}"
      ]
     },
     "execution_count": 10,
     "metadata": {},
     "output_type": "execute_result"
    }
   ],
   "source": [
    "from torch.utils.data import DataLoader\n",
    "loaders = {\n",
    "    'train' : torch.utils.data.DataLoader(train_data, \n",
    "                                          batch_size=100, \n",
    "                                          shuffle=True, \n",
    "                                          num_workers=1),\n",
    "    \n",
    "    'test'  : torch.utils.data.DataLoader(test_data, \n",
    "                                          batch_size=100, \n",
    "                                          shuffle=True, \n",
    "                                          num_workers=1),\n",
    "}\n",
    "loaders"
   ]
  },
  {
   "cell_type": "code",
   "execution_count": 11,
   "id": "f716e731",
   "metadata": {},
   "outputs": [],
   "source": [
    "import torch.nn as nn\n",
    "class CNN(nn.Module):\n",
    "    def __init__(self):\n",
    "        super(CNN, self).__init__()\n",
    "        self.conv1 = nn.Sequential(         \n",
    "            nn.Conv2d(\n",
    "                in_channels=1,              \n",
    "                out_channels=16,            \n",
    "                kernel_size=5,              \n",
    "                stride=1,                   \n",
    "                padding=2,                  \n",
    "            ),                              \n",
    "            nn.ReLU(),                      \n",
    "            nn.MaxPool2d(kernel_size=2),    \n",
    "        )\n",
    "        self.conv2 = nn.Sequential(         \n",
    "            nn.Conv2d(16, 32, 5, 1, 2),     \n",
    "            nn.ReLU(),                      \n",
    "            nn.MaxPool2d(2),                \n",
    "        )\n",
    "        # fully connected layer, output 10 classes\n",
    "        self.out = nn.Linear(32 * 7 * 7, 10)\n",
    "    def forward(self, x):\n",
    "        x = self.conv1(x)\n",
    "        x = self.conv2(x)\n",
    "        # flatten the output of conv2 to (batch_size, 32 * 7 * 7)\n",
    "        x = x.view(x.size(0), -1)       \n",
    "        output = self.out(x)\n",
    "        return output, x    # return x for visualization"
   ]
  },
  {
   "cell_type": "code",
   "execution_count": 12,
   "id": "259c8714",
   "metadata": {},
   "outputs": [
    {
     "name": "stdout",
     "output_type": "stream",
     "text": [
      "CNN(\n",
      "  (conv1): Sequential(\n",
      "    (0): Conv2d(1, 16, kernel_size=(5, 5), stride=(1, 1), padding=(2, 2))\n",
      "    (1): ReLU()\n",
      "    (2): MaxPool2d(kernel_size=2, stride=2, padding=0, dilation=1, ceil_mode=False)\n",
      "  )\n",
      "  (conv2): Sequential(\n",
      "    (0): Conv2d(16, 32, kernel_size=(5, 5), stride=(1, 1), padding=(2, 2))\n",
      "    (1): ReLU()\n",
      "    (2): MaxPool2d(kernel_size=2, stride=2, padding=0, dilation=1, ceil_mode=False)\n",
      "  )\n",
      "  (out): Linear(in_features=1568, out_features=10, bias=True)\n",
      ")\n"
     ]
    }
   ],
   "source": [
    "cnn = CNN()\n",
    "print(cnn)"
   ]
  },
  {
   "cell_type": "code",
   "execution_count": 13,
   "id": "9ec5b76b",
   "metadata": {},
   "outputs": [
    {
     "data": {
      "text/plain": [
       "CrossEntropyLoss()"
      ]
     },
     "execution_count": 13,
     "metadata": {},
     "output_type": "execute_result"
    }
   ],
   "source": [
    "loss_func = nn.CrossEntropyLoss()   \n",
    "loss_func"
   ]
  },
  {
   "cell_type": "code",
   "execution_count": 14,
   "id": "d1411735",
   "metadata": {},
   "outputs": [
    {
     "data": {
      "text/plain": [
       "Adam (\n",
       "Parameter Group 0\n",
       "    amsgrad: False\n",
       "    betas: (0.9, 0.999)\n",
       "    capturable: False\n",
       "    eps: 1e-08\n",
       "    foreach: None\n",
       "    lr: 0.01\n",
       "    maximize: False\n",
       "    weight_decay: 0\n",
       ")"
      ]
     },
     "execution_count": 14,
     "metadata": {},
     "output_type": "execute_result"
    }
   ],
   "source": [
    "from torch import optim\n",
    "optimizer = optim.Adam(cnn.parameters(), lr = 0.01)   \n",
    "optimizer"
   ]
  },
  {
   "cell_type": "code",
   "execution_count": 38,
   "id": "578648dc",
   "metadata": {},
   "outputs": [
    {
     "name": "stdout",
     "output_type": "stream",
     "text": [
      "Epoch [1/50], Step [100/600], Loss: 0.1298\n",
      "Epoch [1/50], Step [200/600], Loss: 0.0622\n",
      "Epoch [1/50], Step [300/600], Loss: 0.0344\n",
      "Epoch [1/50], Step [400/600], Loss: 0.0626\n",
      "Epoch [1/50], Step [500/600], Loss: 0.1558\n",
      "Epoch [1/50], Step [600/600], Loss: 0.0183\n",
      "Epoch [2/50], Step [100/600], Loss: 0.1618\n",
      "Epoch [2/50], Step [200/600], Loss: 0.0102\n",
      "Epoch [2/50], Step [300/600], Loss: 0.1707\n",
      "Epoch [2/50], Step [400/600], Loss: 0.0416\n",
      "Epoch [2/50], Step [500/600], Loss: 0.0026\n",
      "Epoch [2/50], Step [600/600], Loss: 0.0383\n",
      "Epoch [3/50], Step [100/600], Loss: 0.1162\n",
      "Epoch [3/50], Step [200/600], Loss: 0.0705\n",
      "Epoch [3/50], Step [300/600], Loss: 0.0678\n",
      "Epoch [3/50], Step [400/600], Loss: 0.1370\n",
      "Epoch [3/50], Step [500/600], Loss: 0.0260\n",
      "Epoch [3/50], Step [600/600], Loss: 0.1012\n",
      "Epoch [4/50], Step [100/600], Loss: 0.0647\n",
      "Epoch [4/50], Step [200/600], Loss: 0.1233\n",
      "Epoch [4/50], Step [300/600], Loss: 0.0826\n",
      "Epoch [4/50], Step [400/600], Loss: 0.0597\n",
      "Epoch [4/50], Step [500/600], Loss: 0.0235\n",
      "Epoch [4/50], Step [600/600], Loss: 0.0048\n",
      "Epoch [5/50], Step [100/600], Loss: 0.0113\n",
      "Epoch [5/50], Step [200/600], Loss: 0.0490\n",
      "Epoch [5/50], Step [300/600], Loss: 0.0993\n",
      "Epoch [5/50], Step [400/600], Loss: 0.0532\n",
      "Epoch [5/50], Step [500/600], Loss: 0.0684\n",
      "Epoch [5/50], Step [600/600], Loss: 0.0640\n",
      "Epoch [6/50], Step [100/600], Loss: 0.0482\n",
      "Epoch [6/50], Step [200/600], Loss: 0.0415\n",
      "Epoch [6/50], Step [300/600], Loss: 0.0149\n",
      "Epoch [6/50], Step [400/600], Loss: 0.0602\n",
      "Epoch [6/50], Step [500/600], Loss: 0.1046\n",
      "Epoch [6/50], Step [600/600], Loss: 0.0149\n",
      "Epoch [7/50], Step [100/600], Loss: 0.0564\n",
      "Epoch [7/50], Step [200/600], Loss: 0.0077\n",
      "Epoch [7/50], Step [300/600], Loss: 0.3480\n",
      "Epoch [7/50], Step [400/600], Loss: 0.0485\n",
      "Epoch [7/50], Step [500/600], Loss: 0.0913\n",
      "Epoch [7/50], Step [600/600], Loss: 0.0215\n",
      "Epoch [8/50], Step [100/600], Loss: 0.0134\n",
      "Epoch [8/50], Step [200/600], Loss: 0.0177\n",
      "Epoch [8/50], Step [300/600], Loss: 0.1468\n",
      "Epoch [8/50], Step [400/600], Loss: 0.0549\n",
      "Epoch [8/50], Step [500/600], Loss: 0.0296\n",
      "Epoch [8/50], Step [600/600], Loss: 0.0883\n",
      "Epoch [9/50], Step [100/600], Loss: 0.0480\n",
      "Epoch [9/50], Step [200/600], Loss: 0.0544\n",
      "Epoch [9/50], Step [300/600], Loss: 0.0210\n",
      "Epoch [9/50], Step [400/600], Loss: 0.0181\n",
      "Epoch [9/50], Step [500/600], Loss: 0.0608\n",
      "Epoch [9/50], Step [600/600], Loss: 0.0129\n",
      "Epoch [10/50], Step [100/600], Loss: 0.0057\n",
      "Epoch [10/50], Step [200/600], Loss: 0.0355\n",
      "Epoch [10/50], Step [300/600], Loss: 0.0065\n",
      "Epoch [10/50], Step [400/600], Loss: 0.0272\n",
      "Epoch [10/50], Step [500/600], Loss: 0.0361\n",
      "Epoch [10/50], Step [600/600], Loss: 0.0205\n",
      "Epoch [11/50], Step [100/600], Loss: 0.0577\n",
      "Epoch [11/50], Step [200/600], Loss: 0.0235\n",
      "Epoch [11/50], Step [300/600], Loss: 0.0136\n",
      "Epoch [11/50], Step [400/600], Loss: 0.0538\n",
      "Epoch [11/50], Step [500/600], Loss: 0.0684\n",
      "Epoch [11/50], Step [600/600], Loss: 0.0401\n",
      "Epoch [12/50], Step [100/600], Loss: 0.0397\n",
      "Epoch [12/50], Step [200/600], Loss: 0.0015\n",
      "Epoch [12/50], Step [300/600], Loss: 0.0322\n",
      "Epoch [12/50], Step [400/600], Loss: 0.0039\n",
      "Epoch [12/50], Step [500/600], Loss: 0.0157\n",
      "Epoch [12/50], Step [600/600], Loss: 0.0416\n",
      "Epoch [13/50], Step [100/600], Loss: 0.0608\n",
      "Epoch [13/50], Step [200/600], Loss: 0.0076\n",
      "Epoch [13/50], Step [300/600], Loss: 0.0296\n",
      "Epoch [13/50], Step [400/600], Loss: 0.0026\n",
      "Epoch [13/50], Step [500/600], Loss: 0.1220\n",
      "Epoch [13/50], Step [600/600], Loss: 0.0017\n",
      "Epoch [14/50], Step [100/600], Loss: 0.0797\n",
      "Epoch [14/50], Step [200/600], Loss: 0.0026\n",
      "Epoch [14/50], Step [300/600], Loss: 0.0097\n",
      "Epoch [14/50], Step [400/600], Loss: 0.0397\n",
      "Epoch [14/50], Step [500/600], Loss: 0.0467\n",
      "Epoch [14/50], Step [600/600], Loss: 0.0150\n",
      "Epoch [15/50], Step [100/600], Loss: 0.0276\n",
      "Epoch [15/50], Step [200/600], Loss: 0.0027\n",
      "Epoch [15/50], Step [300/600], Loss: 0.0148\n",
      "Epoch [15/50], Step [400/600], Loss: 0.0139\n",
      "Epoch [15/50], Step [500/600], Loss: 0.0065\n",
      "Epoch [15/50], Step [600/600], Loss: 0.0007\n",
      "Epoch [16/50], Step [100/600], Loss: 0.0178\n",
      "Epoch [16/50], Step [200/600], Loss: 0.0247\n",
      "Epoch [16/50], Step [300/600], Loss: 0.0808\n",
      "Epoch [16/50], Step [400/600], Loss: 0.0210\n",
      "Epoch [16/50], Step [500/600], Loss: 0.0643\n",
      "Epoch [16/50], Step [600/600], Loss: 0.0188\n",
      "Epoch [17/50], Step [100/600], Loss: 0.0367\n",
      "Epoch [17/50], Step [200/600], Loss: 0.0484\n",
      "Epoch [17/50], Step [300/600], Loss: 0.0435\n",
      "Epoch [17/50], Step [400/600], Loss: 0.2235\n",
      "Epoch [17/50], Step [500/600], Loss: 0.0126\n",
      "Epoch [17/50], Step [600/600], Loss: 0.0074\n",
      "Epoch [18/50], Step [100/600], Loss: 0.0082\n",
      "Epoch [18/50], Step [200/600], Loss: 0.1705\n",
      "Epoch [18/50], Step [300/600], Loss: 0.0596\n",
      "Epoch [18/50], Step [400/600], Loss: 0.0457\n",
      "Epoch [18/50], Step [500/600], Loss: 0.0322\n",
      "Epoch [18/50], Step [600/600], Loss: 0.1621\n",
      "Epoch [19/50], Step [100/600], Loss: 0.0217\n",
      "Epoch [19/50], Step [200/600], Loss: 0.0002\n",
      "Epoch [19/50], Step [300/600], Loss: 0.0033\n",
      "Epoch [19/50], Step [400/600], Loss: 0.0200\n",
      "Epoch [19/50], Step [500/600], Loss: 0.0045\n",
      "Epoch [19/50], Step [600/600], Loss: 0.0008\n",
      "Epoch [20/50], Step [100/600], Loss: 0.0480\n",
      "Epoch [20/50], Step [200/600], Loss: 0.0073\n",
      "Epoch [20/50], Step [300/600], Loss: 0.0017\n",
      "Epoch [20/50], Step [400/600], Loss: 0.0494\n",
      "Epoch [20/50], Step [500/600], Loss: 0.0152\n",
      "Epoch [20/50], Step [600/600], Loss: 0.0423\n",
      "Epoch [21/50], Step [100/600], Loss: 0.0592\n",
      "Epoch [21/50], Step [200/600], Loss: 0.0094\n",
      "Epoch [21/50], Step [300/600], Loss: 0.2023\n",
      "Epoch [21/50], Step [400/600], Loss: 0.1235\n",
      "Epoch [21/50], Step [500/600], Loss: 0.0002\n",
      "Epoch [21/50], Step [600/600], Loss: 0.0047\n",
      "Epoch [22/50], Step [100/600], Loss: 0.0058\n",
      "Epoch [22/50], Step [200/600], Loss: 0.0028\n",
      "Epoch [22/50], Step [300/600], Loss: 0.0806\n",
      "Epoch [22/50], Step [400/600], Loss: 0.0857\n",
      "Epoch [22/50], Step [500/600], Loss: 0.0005\n",
      "Epoch [22/50], Step [600/600], Loss: 0.0183\n",
      "Epoch [23/50], Step [100/600], Loss: 0.0044\n",
      "Epoch [23/50], Step [200/600], Loss: 0.0881\n",
      "Epoch [23/50], Step [300/600], Loss: 0.0002\n",
      "Epoch [23/50], Step [400/600], Loss: 0.0001\n",
      "Epoch [23/50], Step [500/600], Loss: 0.0093\n",
      "Epoch [23/50], Step [600/600], Loss: 0.0035\n",
      "Epoch [24/50], Step [100/600], Loss: 0.0074\n",
      "Epoch [24/50], Step [200/600], Loss: 0.0474\n",
      "Epoch [24/50], Step [300/600], Loss: 0.0000\n",
      "Epoch [24/50], Step [400/600], Loss: 0.0076\n",
      "Epoch [24/50], Step [500/600], Loss: 0.0380\n",
      "Epoch [24/50], Step [600/600], Loss: 0.0059\n",
      "Epoch [25/50], Step [100/600], Loss: 0.1325\n",
      "Epoch [25/50], Step [200/600], Loss: 0.0166\n",
      "Epoch [25/50], Step [300/600], Loss: 0.0918\n",
      "Epoch [25/50], Step [400/600], Loss: 0.0487\n",
      "Epoch [25/50], Step [500/600], Loss: 0.0017\n",
      "Epoch [25/50], Step [600/600], Loss: 0.1042\n",
      "Epoch [26/50], Step [100/600], Loss: 0.0096\n",
      "Epoch [26/50], Step [200/600], Loss: 0.0000\n",
      "Epoch [26/50], Step [300/600], Loss: 0.0066\n",
      "Epoch [26/50], Step [400/600], Loss: 0.1095\n",
      "Epoch [26/50], Step [500/600], Loss: 0.0147\n",
      "Epoch [26/50], Step [600/600], Loss: 0.0026\n",
      "Epoch [27/50], Step [100/600], Loss: 0.0002\n",
      "Epoch [27/50], Step [200/600], Loss: 0.0140\n",
      "Epoch [27/50], Step [300/600], Loss: 0.1067\n",
      "Epoch [27/50], Step [400/600], Loss: 0.1098\n",
      "Epoch [27/50], Step [500/600], Loss: 0.0008\n",
      "Epoch [27/50], Step [600/600], Loss: 0.0202\n",
      "Epoch [28/50], Step [100/600], Loss: 0.0000\n",
      "Epoch [28/50], Step [200/600], Loss: 0.0003\n",
      "Epoch [28/50], Step [300/600], Loss: 0.0004\n",
      "Epoch [28/50], Step [400/600], Loss: 0.1428\n",
      "Epoch [28/50], Step [500/600], Loss: 0.0032\n",
      "Epoch [28/50], Step [600/600], Loss: 0.0758\n",
      "Epoch [29/50], Step [100/600], Loss: 0.0002\n",
      "Epoch [29/50], Step [200/600], Loss: 0.1381\n",
      "Epoch [29/50], Step [300/600], Loss: 0.0016\n",
      "Epoch [29/50], Step [400/600], Loss: 0.1120\n",
      "Epoch [29/50], Step [500/600], Loss: 0.0204\n",
      "Epoch [29/50], Step [600/600], Loss: 0.0115\n",
      "Epoch [30/50], Step [100/600], Loss: 0.0004\n",
      "Epoch [30/50], Step [200/600], Loss: 0.0001\n",
      "Epoch [30/50], Step [300/600], Loss: 0.0019\n",
      "Epoch [30/50], Step [400/600], Loss: 0.0005\n",
      "Epoch [30/50], Step [500/600], Loss: 0.0178\n",
      "Epoch [30/50], Step [600/600], Loss: 0.0728\n",
      "Epoch [31/50], Step [100/600], Loss: 0.0012\n",
      "Epoch [31/50], Step [200/600], Loss: 0.0071\n",
      "Epoch [31/50], Step [300/600], Loss: 0.0538\n",
      "Epoch [31/50], Step [400/600], Loss: 0.0068\n",
      "Epoch [31/50], Step [500/600], Loss: 0.0004\n",
      "Epoch [31/50], Step [600/600], Loss: 0.0011\n",
      "Epoch [32/50], Step [100/600], Loss: 0.0283\n",
      "Epoch [32/50], Step [200/600], Loss: 0.0474\n"
     ]
    },
    {
     "name": "stdout",
     "output_type": "stream",
     "text": [
      "Epoch [32/50], Step [300/600], Loss: 0.0010\n",
      "Epoch [32/50], Step [400/600], Loss: 0.0187\n",
      "Epoch [32/50], Step [500/600], Loss: 0.0000\n",
      "Epoch [32/50], Step [600/600], Loss: 0.0938\n",
      "Epoch [33/50], Step [100/600], Loss: 0.0022\n",
      "Epoch [33/50], Step [200/600], Loss: 0.0313\n",
      "Epoch [33/50], Step [300/600], Loss: 0.0430\n",
      "Epoch [33/50], Step [400/600], Loss: 0.0057\n",
      "Epoch [33/50], Step [500/600], Loss: 0.0001\n",
      "Epoch [33/50], Step [600/600], Loss: 0.1677\n",
      "Epoch [34/50], Step [100/600], Loss: 0.0088\n",
      "Epoch [34/50], Step [200/600], Loss: 0.0010\n",
      "Epoch [34/50], Step [300/600], Loss: 0.0001\n",
      "Epoch [34/50], Step [400/600], Loss: 0.0394\n",
      "Epoch [34/50], Step [500/600], Loss: 0.0217\n",
      "Epoch [34/50], Step [600/600], Loss: 0.0161\n",
      "Epoch [35/50], Step [100/600], Loss: 0.0384\n",
      "Epoch [35/50], Step [200/600], Loss: 0.0000\n",
      "Epoch [35/50], Step [300/600], Loss: 0.0000\n",
      "Epoch [35/50], Step [400/600], Loss: 0.0000\n",
      "Epoch [35/50], Step [500/600], Loss: 0.0064\n",
      "Epoch [35/50], Step [600/600], Loss: 0.0000\n",
      "Epoch [36/50], Step [100/600], Loss: 0.0007\n",
      "Epoch [36/50], Step [200/600], Loss: 0.0694\n",
      "Epoch [36/50], Step [300/600], Loss: 0.0861\n",
      "Epoch [36/50], Step [400/600], Loss: 0.2743\n",
      "Epoch [36/50], Step [500/600], Loss: 0.0338\n",
      "Epoch [36/50], Step [600/600], Loss: 0.3120\n",
      "Epoch [37/50], Step [100/600], Loss: 0.0513\n",
      "Epoch [37/50], Step [200/600], Loss: 0.0071\n",
      "Epoch [37/50], Step [300/600], Loss: 0.0822\n",
      "Epoch [37/50], Step [400/600], Loss: 0.0966\n",
      "Epoch [37/50], Step [500/600], Loss: 0.0677\n",
      "Epoch [37/50], Step [600/600], Loss: 0.2561\n",
      "Epoch [38/50], Step [100/600], Loss: 0.1354\n",
      "Epoch [38/50], Step [200/600], Loss: 0.1037\n",
      "Epoch [38/50], Step [300/600], Loss: 0.0001\n",
      "Epoch [38/50], Step [400/600], Loss: 0.0002\n",
      "Epoch [38/50], Step [500/600], Loss: 0.1722\n",
      "Epoch [38/50], Step [600/600], Loss: 0.1573\n",
      "Epoch [39/50], Step [100/600], Loss: 0.1142\n",
      "Epoch [39/50], Step [200/600], Loss: 0.0000\n",
      "Epoch [39/50], Step [300/600], Loss: 0.0009\n",
      "Epoch [39/50], Step [400/600], Loss: 0.0000\n",
      "Epoch [39/50], Step [500/600], Loss: 0.1331\n",
      "Epoch [39/50], Step [600/600], Loss: 0.0005\n",
      "Epoch [40/50], Step [100/600], Loss: 0.0000\n",
      "Epoch [40/50], Step [200/600], Loss: 0.0643\n",
      "Epoch [40/50], Step [300/600], Loss: 0.0395\n",
      "Epoch [40/50], Step [400/600], Loss: 0.0000\n",
      "Epoch [40/50], Step [500/600], Loss: 0.0005\n",
      "Epoch [40/50], Step [600/600], Loss: 0.0000\n",
      "Epoch [41/50], Step [100/600], Loss: 0.0093\n",
      "Epoch [41/50], Step [200/600], Loss: 0.0000\n",
      "Epoch [41/50], Step [300/600], Loss: 0.2392\n",
      "Epoch [41/50], Step [400/600], Loss: 0.0000\n",
      "Epoch [41/50], Step [500/600], Loss: 0.0008\n",
      "Epoch [41/50], Step [600/600], Loss: 0.0985\n",
      "Epoch [42/50], Step [100/600], Loss: 0.0575\n",
      "Epoch [42/50], Step [200/600], Loss: 0.0132\n",
      "Epoch [42/50], Step [300/600], Loss: 0.0383\n",
      "Epoch [42/50], Step [400/600], Loss: 0.0299\n",
      "Epoch [42/50], Step [500/600], Loss: 0.0465\n",
      "Epoch [42/50], Step [600/600], Loss: 0.0001\n",
      "Epoch [43/50], Step [100/600], Loss: 0.0003\n",
      "Epoch [43/50], Step [200/600], Loss: 0.1281\n",
      "Epoch [43/50], Step [300/600], Loss: 0.0960\n",
      "Epoch [43/50], Step [400/600], Loss: 0.0000\n",
      "Epoch [43/50], Step [500/600], Loss: 0.0448\n",
      "Epoch [43/50], Step [600/600], Loss: 0.0778\n",
      "Epoch [44/50], Step [100/600], Loss: 0.0001\n",
      "Epoch [44/50], Step [200/600], Loss: 0.0000\n",
      "Epoch [44/50], Step [300/600], Loss: 0.0000\n",
      "Epoch [44/50], Step [400/600], Loss: 0.0000\n",
      "Epoch [44/50], Step [500/600], Loss: 0.0171\n",
      "Epoch [44/50], Step [600/600], Loss: 0.0011\n",
      "Epoch [45/50], Step [100/600], Loss: 0.2313\n",
      "Epoch [45/50], Step [200/600], Loss: 0.0002\n",
      "Epoch [45/50], Step [300/600], Loss: 0.0014\n",
      "Epoch [45/50], Step [400/600], Loss: 0.0000\n",
      "Epoch [45/50], Step [500/600], Loss: 0.0003\n",
      "Epoch [45/50], Step [600/600], Loss: 0.0641\n",
      "Epoch [46/50], Step [100/600], Loss: 0.0042\n",
      "Epoch [46/50], Step [200/600], Loss: 0.0744\n",
      "Epoch [46/50], Step [300/600], Loss: 0.0000\n",
      "Epoch [46/50], Step [400/600], Loss: 0.0000\n",
      "Epoch [46/50], Step [500/600], Loss: 0.0001\n",
      "Epoch [46/50], Step [600/600], Loss: 0.0000\n",
      "Epoch [47/50], Step [100/600], Loss: 0.0001\n",
      "Epoch [47/50], Step [200/600], Loss: 0.0000\n",
      "Epoch [47/50], Step [300/600], Loss: 0.2880\n",
      "Epoch [47/50], Step [400/600], Loss: 0.0000\n",
      "Epoch [47/50], Step [500/600], Loss: 0.0003\n",
      "Epoch [47/50], Step [600/600], Loss: 0.0000\n",
      "Epoch [48/50], Step [100/600], Loss: 0.0000\n",
      "Epoch [48/50], Step [200/600], Loss: 0.0022\n",
      "Epoch [48/50], Step [300/600], Loss: 0.0476\n",
      "Epoch [48/50], Step [400/600], Loss: 0.4483\n",
      "Epoch [48/50], Step [500/600], Loss: 0.0010\n",
      "Epoch [48/50], Step [600/600], Loss: 0.0168\n",
      "Epoch [49/50], Step [100/600], Loss: 0.0000\n",
      "Epoch [49/50], Step [200/600], Loss: 0.0001\n",
      "Epoch [49/50], Step [300/600], Loss: 0.0000\n",
      "Epoch [49/50], Step [400/600], Loss: 0.0000\n",
      "Epoch [49/50], Step [500/600], Loss: 0.0000\n",
      "Epoch [49/50], Step [600/600], Loss: 0.1181\n",
      "Epoch [50/50], Step [100/600], Loss: 0.0001\n",
      "Epoch [50/50], Step [200/600], Loss: 0.0010\n",
      "Epoch [50/50], Step [300/600], Loss: 0.0360\n",
      "Epoch [50/50], Step [400/600], Loss: 0.0236\n",
      "Epoch [50/50], Step [500/600], Loss: 0.0055\n",
      "Epoch [50/50], Step [600/600], Loss: 0.0000\n"
     ]
    }
   ],
   "source": [
    "from torch.autograd import Variable\n",
    "num_epochs = 50\n",
    "def train(num_epochs, cnn, loaders):\n",
    "    \n",
    "    cnn.train()\n",
    "        \n",
    "    # Train the model\n",
    "    total_step = len(loaders['train'])\n",
    "        \n",
    "    for epoch in range(num_epochs):\n",
    "        for i, (images, labels) in enumerate(loaders['train']):\n",
    "            \n",
    "            # gives batch data, normalize x when iterate train_loader\n",
    "            b_x = Variable(images)   # batch x\n",
    "            b_y = Variable(labels)   # batch y\n",
    "            \n",
    "            output = cnn(b_x)[0]               \n",
    "            loss = loss_func(output, b_y)\n",
    "            \n",
    "            # clear gradients for this training step   \n",
    "            optimizer.zero_grad()           \n",
    "            \n",
    "            # backpropagation, compute gradients \n",
    "            loss.backward()    \n",
    "            # apply gradients             \n",
    "            optimizer.step()                \n",
    "            \n",
    "            if (i+1) % 100 == 0:\n",
    "                print ('Epoch [{}/{}], Step [{}/{}], Loss: {:.4f}' \n",
    "                       .format(epoch + 1, num_epochs, i + 1, total_step, loss.item()))\n",
    "                pass\n",
    "        pass\n",
    "    pass\n",
    "\n",
    "train(num_epochs, cnn, loaders)"
   ]
  },
  {
   "cell_type": "code",
   "execution_count": 39,
   "id": "00af0e87",
   "metadata": {},
   "outputs": [
    {
     "name": "stdout",
     "output_type": "stream",
     "text": [
      "Test Accuracy of the model on the 10000 test images: 98.34%\n"
     ]
    }
   ],
   "source": [
    "def test():\n",
    "    # Test the model\n",
    "    cnn.eval()\n",
    "    with torch.no_grad():\n",
    "        correct = 0\n",
    "        total = 0\n",
    "        for images, labels in loaders['test']:\n",
    "            images, labels = images.to(device), labels.to(device)  # Move to GPU if available\n",
    "            test_output, last_layer = cnn(images) \n",
    "            pred_y = torch.max(test_output, 1)[1].data.squeeze()\n",
    "            correct += (pred_y == labels).sum().item()\n",
    "            total += labels.size(0)\n",
    "        accuracy = correct / total\n",
    "        print(f\"Test Accuracy of the model on the 10000 test images: %.2f%%\" % (100 * accuracy))\n",
    "\n",
    "test()"
   ]
  },
  {
   "cell_type": "code",
   "execution_count": 50,
   "id": "97a9edd1",
   "metadata": {},
   "outputs": [],
   "source": [
    "sample = next(iter(loaders['test']))\n",
    "imgs, lbls = sample"
   ]
  },
  {
   "cell_type": "code",
   "execution_count": 51,
   "id": "06ee6f16",
   "metadata": {},
   "outputs": [
    {
     "data": {
      "text/plain": [
       "array([1, 7, 3, 7, 9, 6, 4, 2, 1, 2])"
      ]
     },
     "execution_count": 51,
     "metadata": {},
     "output_type": "execute_result"
    }
   ],
   "source": [
    "actual_number = lbls[:10].numpy()\n",
    "actual_number"
   ]
  },
  {
   "cell_type": "code",
   "execution_count": 52,
   "id": "7ea441fd",
   "metadata": {},
   "outputs": [
    {
     "name": "stdout",
     "output_type": "stream",
     "text": [
      "Prediction number: [1 7 3 7 9 6 4 2 1 2]\n",
      "Actual number: [1 7 3 7 9 6 4 2 1 2]\n"
     ]
    }
   ],
   "source": [
    "test_output, last_layer = cnn(imgs[:10])\n",
    "pred_y = torch.max(test_output, 1)[1].data.numpy().squeeze()\n",
    "print(f'Prediction number: {pred_y}')\n",
    "print(f'Actual number: {actual_number}')"
   ]
  },
  {
   "cell_type": "code",
   "execution_count": 53,
   "id": "4d058e44",
   "metadata": {},
   "outputs": [
    {
     "name": "stdout",
     "output_type": "stream",
     "text": [
      "Prediction number: [1 7 3 7 9 6 4 2 1 2 8 8 5 5 5 6 3 8 8 8 2 1 3 6 4 4 4 8 1 5 7 8 9 1 0 1 9\n",
      " 6 1 7 1 2 3 5 6 9 1 3 1 3 2 5 7 0 5 9 7 6 0 3 8 4 8 4 9 7 0 8 4 4 4 2 5 5\n",
      " 1 6 0 2 3 4 8 4 9 7 0 8 3 6 9 1 9 0 8 4 7 0 5 4 4 1]\n",
      "Actual number: [1 7 3 7 9 6 4 2 1 2 8 8 5 5 5 6 3 8 8 8 2 1 3 6 4 4 4 8 1 5 7 8 9 1 0 1 9\n",
      " 6 1 7 1 2 3 5 6 9 1 3 1 3 2 5 7 0 5 9 7 6 0 3 8 4 8 4 9 7 0 8 4 4 4 2 5 5\n",
      " 1 6 0 6 3 4 8 4 9 7 0 8 3 6 9 1 9 0 8 4 7 0 5 4 4 1]\n"
     ]
    }
   ],
   "source": [
    "actual_number = lbls[:100].numpy()\n",
    "actual_number\n",
    "\n",
    "test_output, last_layer = cnn(imgs[:100])\n",
    "pred_y = torch.max(test_output, 1)[1].data.numpy().squeeze()\n",
    "print(f'Prediction number: {pred_y}')\n",
    "print(f'Actual number: {actual_number}')"
   ]
  },
  {
   "cell_type": "code",
   "execution_count": 54,
   "id": "06d8e668",
   "metadata": {},
   "outputs": [
    {
     "name": "stdout",
     "output_type": "stream",
     "text": [
      "Different elements at index 77: 2 (prediction) != 6 (actual_number)\n"
     ]
    }
   ],
   "source": [
    "for i in range(len(pred_y)):\n",
    "    if pred_y[i] != actual_number[i]:\n",
    "        print(f\"Different elements at index {i}: {pred_y[i]} (prediction) != {actual_number[i]} (actual_number)\")"
   ]
  },
  {
   "cell_type": "code",
   "execution_count": null,
   "id": "40fb1466",
   "metadata": {},
   "outputs": [],
   "source": []
  }
 ],
 "metadata": {
  "kernelspec": {
   "display_name": "Python 3 (ipykernel)",
   "language": "python",
   "name": "python3"
  },
  "language_info": {
   "codemirror_mode": {
    "name": "ipython",
    "version": 3
   },
   "file_extension": ".py",
   "mimetype": "text/x-python",
   "name": "python",
   "nbconvert_exporter": "python",
   "pygments_lexer": "ipython3",
   "version": "3.10.9"
  }
 },
 "nbformat": 4,
 "nbformat_minor": 5
}
